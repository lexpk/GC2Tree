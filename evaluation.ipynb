{
 "cells": [
  {
   "cell_type": "markdown",
   "metadata": {},
   "source": [
    "#### Prepare Datasets\n",
    "First, we check if the datasets for benchmarking exists. If not we download them."
   ]
  },
  {
   "cell_type": "code",
   "execution_count": 2,
   "metadata": {},
   "outputs": [],
   "source": [
    "import csv\n",
    "import os\n",
    "from zipfile import ZipFile\n",
    "from urllib.request import urlretrieve\n",
    "\n",
    "names = [\n",
    "    'citeseer-doc-classification',\n",
    "    'cora',\n",
    "]\n",
    "\n",
    "downloadurls = [\n",
    "    'https://linqs-data.soe.ucsc.edu/public/datasets/citeseer-doc-classification/citeseer-doc-classification.zip',\n",
    "    'https://linqs-data.soe.ucsc.edu/public/datasets/cora/cora.zip',\n",
    "]\n",
    "\n",
    "if not os.path.exists('datasets'):\n",
    "    os.makedirs('datasets')\n",
    "for name, url in zip(names, downloadurls):\n",
    "    if not os.path.exists('datasets/' + name):\n",
    "        urlretrieve(url, 'datasets/' + name + '.zip')\n",
    "        with ZipFile('datasets/' + name + '.zip', 'r') as zipObj:\n",
    "            zipObj.extractall('datasets/')"
   ]
  },
  {
   "cell_type": "markdown",
   "metadata": {},
   "source": [
    "Next we define the evaluation functions. These functions split the data into train and test sets, train the model and evaluate the model on the test set."
   ]
  },
  {
   "cell_type": "code",
   "execution_count": 3,
   "metadata": {},
   "outputs": [],
   "source": [
    "from sklearn.model_selection import train_test_split\n",
    "from sklearn.tree import DecisionTreeClassifier\n",
    "import networkx as nx\n",
    "import numpy as np\n",
    "\n",
    "from GC2Tree import GC2Tree\n",
    "\n",
    "def evaluate_baseline(X, y, adj, max_depth=10, n_runs=10, test_ratio=0.2):\n",
    "    train_accuracies = []\n",
    "    test_accuracies = []\n",
    "    for _ in range(n_runs):\n",
    "        X_with_dummy = np.concatenate([X, np.ones((X.shape[0], 1))], axis=1)\n",
    "        X_plus = np.concatenate([X_with_dummy, adj.dot(X_with_dummy), adj.dot(adj.dot(X_with_dummy))], axis=1)\n",
    "        train_X, test_X, train_y, test_y = train_test_split(X_plus,  y, test_size=test_ratio, random_state=42)\n",
    "        clf = DecisionTreeClassifier(max_depth=max_depth)\n",
    "        clf.fit(train_X, train_y),\n",
    "        train_accuracies.append(clf.score(train_X, train_y))\n",
    "        test_accuracies.append(clf.score(test_X, test_y))\n",
    "    print(f'Decision Tree with access to node features, 2-hop neighbor features, {n_runs} runs, {test_ratio} test ratio')\n",
    "    print(f'Average train accuracy: {np.mean(train_accuracies):.3f}')\n",
    "    print(f'Average test accuracy: {np.mean(test_accuracies):.3f}')\n",
    "    print(f'Test Accuracy at best train accuracy: {test_accuracies[np.argmax(train_accuracies)]:.3f}')\n",
    "    \n",
    "def evaluate_gc2_tree(X, y, adj, depth=3, tree_depth=8, n_runs=10, test_ratio=0.2):\n",
    "    train_accuracies = []\n",
    "    test_accuracies = []\n",
    "    for _ in range(n_runs):\n",
    "        test_samples = np.random.choice(len(y), size=int(0.1*len(y)), replace=False)\n",
    "        test_mask = np.zeros(len(y), dtype=bool)\n",
    "        test_mask[test_samples] = True\n",
    "        y_no_test = y.copy()\n",
    "        y_no_test[test_samples] = -1\n",
    "        clf = GC2Tree(depth=depth, tree_depth=tree_depth)\n",
    "        clf.fit(adj, X, y_no_test, test_mask=test_mask)\n",
    "        train_accuracies.append(clf.training_accuracy(y, test_mask))\n",
    "        test_accuracies.append(clf.score(y, test_mask))\n",
    "    print(f'GC2Tree with access with {n_runs} runs, {test_ratio} test ratio')\n",
    "    print(f'Average train accuracy: {np.mean(train_accuracies):.3f}')\n",
    "    print(f'Average test accuracy: {np.mean(test_accuracies):.3f}')\n",
    "    print(f'Test Accuracy at best train accuracy: {test_accuracies[np.argmax(train_accuracies)]:.3f}')\n"
   ]
  },
  {
   "cell_type": "markdown",
   "metadata": {},
   "source": [
    "Finally, we run the evaluation functions on the datasets."
   ]
  },
  {
   "cell_type": "code",
   "execution_count": 5,
   "metadata": {},
   "outputs": [
    {
     "name": "stdout",
     "output_type": "stream",
     "text": [
      "Loaded citeseer dataset with 3312 nodes and 4732 edges\n",
      "Decision Tree with access to ode features, 2-hop neighbor features, 5 runs, 0.2 test ratio\n",
      "Average train accuracy: 0.837\n",
      "Average test accuracy: 0.623\n",
      "Test Accuracy at best train accuracy: 0.629\n",
      "GC2Tree with access with 5 runs, 0.2 test ratio\n",
      "Average train accuracy: 0.821\n",
      "Average test accuracy: 0.634\n",
      "Test Accuracy at best train accuracy: 0.662\n",
      "Loaded cora dataset with 2708 nodes and 5429 edges\n",
      "Decision Tree with access to ode features, 2-hop neighbor features, 5 runs, 0.2 test ratio\n",
      "Average train accuracy: 0.911\n",
      "Average test accuracy: 0.771\n",
      "Test Accuracy at best train accuracy: 0.768\n",
      "GC2Tree with access with 5 runs, 0.2 test ratio\n",
      "Average train accuracy: 0.894\n",
      "Average test accuracy: 0.731\n",
      "Test Accuracy at best train accuracy: 0.711\n"
     ]
    }
   ],
   "source": [
    "datasets = [\n",
    "    'citeseer',\n",
    "    'cora',\n",
    "]\n",
    "\n",
    "for name, dataset in zip(names, datasets):\n",
    "    with open(f'datasets/{name}/{dataset}.content') as f:\n",
    "        reader = csv.reader(f, delimiter='\\t')\n",
    "        content = list(reader)\n",
    "\n",
    "    with open(f'datasets/{name}/{dataset}.cites') as f:\n",
    "        reader = csv.reader(f, delimiter='\\t')\n",
    "        edges = list(reader)\n",
    "\n",
    "    node_ids = {row[0]: i for i, row in enumerate(content)}\n",
    "    X = np.array([\n",
    "        row[1:-1] for row in content    \n",
    "    ], dtype=float)\n",
    "    y = np.array([\n",
    "        row[-1] for row in content\n",
    "    ])\n",
    "\n",
    "    adj = np.zeros((len(node_ids), len(node_ids)))\n",
    "    for edge in edges:\n",
    "        if edge[0] in node_ids and edge[1] in node_ids:\n",
    "            adj[node_ids[edge[0]], node_ids[edge[1]]] = 1\n",
    "            adj[node_ids[edge[1]], node_ids[edge[0]]] = 1\n",
    "    print(f'Loaded {dataset} dataset with {len(node_ids)} nodes and {len(edges)} edges')\n",
    "    evaluate_baseline(X, y, adj, n_runs=5)\n",
    "    evaluate_gc2_tree(X, y, adj, n_runs=5)"
   ]
  },
  {
   "cell_type": "code",
   "execution_count": 9,
   "metadata": {},
   "outputs": [
    {
     "name": "stdout",
     "output_type": "stream",
     "text": [
      "Formula: ∃≥4y.E(x, y) ∧ (∃≤7x.(E(y, x) ∧ E(x, y)) ∨ ∃≥13x.E(y, x) ∧ E(x, y))))\n",
      "Decision Tree with access to ode features, 2-hop neighbor features, 5 runs, 0.2 test ratio\n",
      "Average train accuracy: 0.833\n",
      "Average test accuracy: 0.724\n",
      "Test Accuracy at best train accuracy: 0.721\n",
      "GC2Tree with access with 1 runs, 0.2 test ratio\n",
      "Average train accuracy: 1.000\n",
      "Average test accuracy: 0.993\n",
      "Test Accuracy at best train accuracy: 0.993\n",
      "Formula: ∃≥9y.E(x, y) ∧ ∃≤7x.(E(y, x) ∧ ∃≥13y.E(x, y) ∧ E(x, y))))\n",
      "Decision Tree with access to ode features, 2-hop neighbor features, 5 runs, 0.2 test ratio\n",
      "Average train accuracy: 0.997\n",
      "Average test accuracy: 0.984\n",
      "Test Accuracy at best train accuracy: 0.984\n",
      "GC2Tree with access with 1 runs, 0.2 test ratio\n",
      "Average train accuracy: 0.997\n",
      "Average test accuracy: 0.989\n",
      "Test Accuracy at best train accuracy: 0.989\n"
     ]
    }
   ],
   "source": [
    "from c2 import *\n",
    "\n",
    "formulas = [\n",
    "    GuardedExistsGeq(4, Var.y, Or(GuardedExistsLeq(7, Var.x, E(Var.x, Var.y)), GuardedExistsGeq(13, Var.x, E(Var.x, Var.y)))),\n",
    "    GuardedExistsGeq(9, Var.y, GuardedExistsLeq(7, Var.x, GuardedExistsGeq(13, Var.y, E(Var.x, Var.y))))\n",
    "]\n",
    "graph = nx.fast_gnp_random_graph(10000, 0.001)\n",
    "adj = nx.adjacency_matrix(graph)\n",
    "X = np.zeros((graph.number_of_nodes(), 0))\n",
    "X_with_dummy = np.concatenate([X, np.ones((X.shape[0], 1))], axis=1)\n",
    "X_plus = np.concatenate([X_with_dummy, adj.dot(X_with_dummy), adj.dot(adj.dot(X_with_dummy))], axis=1)\n",
    "for formula in formulas:\n",
    "    y = np.array([1 if formula.evaluate(graph, i) else 0 for i in range(graph.number_of_nodes())])\n",
    "    \n",
    "    print(f'Formula: {formula}')\n",
    "    evaluate_baseline(X_plus, y, adj, n_runs=5)\n",
    "    evaluate_gc2_tree(X, y, adj, depth=3, n_runs=1)"
   ]
  }
 ],
 "metadata": {
  "kernelspec": {
   "display_name": "wlclf",
   "language": "python",
   "name": "python3"
  },
  "language_info": {
   "codemirror_mode": {
    "name": "ipython",
    "version": 3
   },
   "file_extension": ".py",
   "mimetype": "text/x-python",
   "name": "python",
   "nbconvert_exporter": "python",
   "pygments_lexer": "ipython3",
   "version": "3.12.0"
  }
 },
 "nbformat": 4,
 "nbformat_minor": 2
}
