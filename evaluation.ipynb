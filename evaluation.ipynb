{
 "cells": [
  {
   "cell_type": "code",
   "execution_count": 1,
   "metadata": {},
   "outputs": [],
   "source": [
    "import csv\n",
    "import networkx as nx\n",
    "import numpy as np\n",
    "from GC2Tree import GC2Tree"
   ]
  },
  {
   "cell_type": "markdown",
   "metadata": {},
   "source": [
    "#### Prepare Datasets\n",
    "First, we check if the datasets for benchmarking exists. If not we download them."
   ]
  },
  {
   "cell_type": "code",
   "execution_count": 2,
   "metadata": {},
   "outputs": [],
   "source": [
    "import os\n",
    "from zipfile import ZipFile\n",
    "from urllib.request import urlretrieve\n",
    "\n",
    "names = [\n",
    "    'citeseer-doc-classification',\n",
    "    'cora',\n",
    "]\n",
    "\n",
    "downloadurls = [\n",
    "    'https://linqs-data.soe.ucsc.edu/public/datasets/citeseer-doc-classification/citeseer-doc-classification.zip',\n",
    "    'https://linqs-data.soe.ucsc.edu/public/datasets/cora/cora.zip',\n",
    "]\n",
    "\n",
    "if not os.path.exists('datasets'):\n",
    "    os.makedirs('datasets')\n",
    "for name, url in zip(names, downloadurls):\n",
    "    if not os.path.exists('datasets/' + name):\n",
    "        urlretrieve(url, 'datasets/' + name + '.zip')\n",
    "        with ZipFile('datasets/' + name + '.zip', 'r') as zipObj:\n",
    "            zipObj.extractall('datasets/')"
   ]
  },
  {
   "cell_type": "code",
   "execution_count": 3,
   "metadata": {},
   "outputs": [],
   "source": [
    "from sklearn.model_selection import train_test_split\n",
    "from sklearn.tree import DecisionTreeClassifier\n",
    "\n",
    "def evaluate_baseline(X, y, adj, max_depth=10, n_runs=10, test_ratio=0.2):\n",
    "    train_accuracies = []\n",
    "    test_accuracies = []\n",
    "    for _ in range(n_runs):\n",
    "        X_with_dummy = np.concatenate([X, np.ones((X.shape[0], 1))], axis=1)\n",
    "        X_plus = np.concatenate([X_with_dummy, adj.dot(X_with_dummy), adj.dot(adj.dot(X_with_dummy))], axis=1)\n",
    "        train_X, test_X, train_y, test_y = train_test_split(X_plus,  y, test_size=test_ratio, random_state=42)\n",
    "        clf = DecisionTreeClassifier(max_depth=12)\n",
    "        clf.fit(train_X, train_y),\n",
    "        train_accuracies.append(clf.score(train_X, train_y))\n",
    "        test_accuracies.append(clf.score(test_X, test_y))\n",
    "    print(f'Decision Tree with access to ode features, 2-hop neighbor features, {n_runs} runs, {test_ratio} test ratio')\n",
    "    print(f'Average train accuracy: {np.mean(train_accuracies):.3f}')\n",
    "    print(f'Average test accuracy: {np.mean(test_accuracies):.3f}')\n",
    "    print(f'Test Accuracy at best train accuracy: {test_accuracies[np.argmax(train_accuracies)]:.3f}')\n",
    "    \n",
    "def evaluate_gc2_tree(X, y, adj, depth=3, tree_depth=8, n_runs=10, test_ratio=0.2):\n",
    "    train_accuracies = []\n",
    "    test_accuracies = []\n",
    "    for _ in range(n_runs):\n",
    "        test_samples = np.random.choice(len(y), size=int(0.1*len(y)), replace=False)\n",
    "        test_mask = np.zeros(len(y), dtype=bool)\n",
    "        test_mask[test_samples] = True\n",
    "        y_no_test = y.copy()\n",
    "        y_no_test[test_samples] = -1\n",
    "        clf = GC2Tree(depth=4, tree_depth=8)\n",
    "        clf.fit(adj, X, y_no_test, test_mask=test_mask)\n",
    "        train_accuracies.append(clf.training_accuracy(y, test_mask))\n",
    "        test_accuracies.append(clf.score(y, test_mask))\n",
    "    print(f'GC2Tree with access with {n_runs} runs, {test_ratio} test ratio')\n",
    "    print(f'Average train accuracy: {np.mean(train_accuracies):.3f}')\n",
    "    print(f'Average test accuracy: {np.mean(test_accuracies):.3f}')\n",
    "    print(f'Test Accuracy at best train accuracy: {test_accuracies[np.argmax(train_accuracies)]:.3f}')\n"
   ]
  },
  {
   "cell_type": "code",
   "execution_count": 4,
   "metadata": {},
   "outputs": [
    {
     "name": "stdout",
     "output_type": "stream",
     "text": [
      "Loaded citeseer dataset with 3312 nodes and 4732 edges\n",
      "Decision Tree with access to node features, 1-hop neighbor features, 5 runs, 0.2 test ratio\n",
      "Average train accuracy: 0.8500566251415629\n",
      "Average test accuracy: 0.6328808446455505\n",
      "GC2Tree with access to node features, 1-hop neighbor features, 5 runs, 0.2 test ratio\n",
      "Average train accuracy: 0.827\n",
      "Average test accuracy: 0.640\n",
      "Loaded cora dataset with 2708 nodes and 5429 edges\n",
      "Decision Tree with access to node features, 1-hop neighbor features, 5 runs, 0.2 test ratio\n",
      "Average train accuracy: 0.9240073868882732\n",
      "Average test accuracy: 0.7450184501845019\n",
      "GC2Tree with access to node features, 1-hop neighbor features, 5 runs, 0.2 test ratio\n",
      "Average train accuracy: 0.898\n",
      "Average test accuracy: 0.756\n"
     ]
    }
   ],
   "source": [
    "datasets = [\n",
    "    'citeseer',\n",
    "    'cora',\n",
    "]\n",
    "\n",
    "for name, dataset in zip(names, datasets):\n",
    "    with open(f'datasets/{name}/{dataset}.content') as f:\n",
    "        reader = csv.reader(f, delimiter='\\t')\n",
    "        content = list(reader)\n",
    "\n",
    "    with open(f'datasets/{name}/{dataset}.cites') as f:\n",
    "        reader = csv.reader(f, delimiter='\\t')\n",
    "        edges = list(reader)\n",
    "\n",
    "    node_ids = {row[0]: i for i, row in enumerate(content)}\n",
    "    X = np.array([\n",
    "        row[1:-1] for row in content    \n",
    "    ], dtype=float)\n",
    "    y = np.array([\n",
    "        row[-1] for row in content\n",
    "    ])\n",
    "\n",
    "    adj = np.zeros((len(node_ids), len(node_ids)))\n",
    "    for edge in edges:\n",
    "        if edge[0] in node_ids and edge[1] in node_ids:\n",
    "            adj[node_ids[edge[0]], node_ids[edge[1]]] = 1\n",
    "            adj[node_ids[edge[1]], node_ids[edge[0]]] = 1\n",
    "    print(f'Loaded {dataset} dataset with {len(node_ids)} nodes and {len(edges)} edges')\n",
    "    evaluate_baseline(X, y, adj, n_runs=5)\n",
    "    evaluate_gc2_tree(X, y, adj, n_runs=5)"
   ]
  },
  {
   "cell_type": "code",
   "execution_count": 12,
   "metadata": {},
   "outputs": [],
   "source": [
    "y = np.array([1 if formulas[1].evaluate(graph, i) else 0 for i in range(graph.number_of_nodes())])\n",
    "y.mean()"
   ]
  },
  {
   "cell_type": "code",
   "execution_count": 9,
   "metadata": {},
   "outputs": [
    {
     "ename": "KeyboardInterrupt",
     "evalue": "",
     "output_type": "error",
     "traceback": [
      "\u001b[1;31m---------------------------------------------------------------------------\u001b[0m",
      "\u001b[1;31mKeyboardInterrupt\u001b[0m                         Traceback (most recent call last)",
      "Cell \u001b[1;32mIn[9], line 13\u001b[0m\n\u001b[0;32m     11\u001b[0m X_plus \u001b[38;5;241m=\u001b[39m np\u001b[38;5;241m.\u001b[39mconcatenate([X_with_dummy, adj\u001b[38;5;241m.\u001b[39mdot(X_with_dummy), adj\u001b[38;5;241m.\u001b[39mdot(adj\u001b[38;5;241m.\u001b[39mdot(X_with_dummy))], axis\u001b[38;5;241m=\u001b[39m\u001b[38;5;241m1\u001b[39m)\n\u001b[0;32m     12\u001b[0m \u001b[38;5;28;01mfor\u001b[39;00m formula \u001b[38;5;129;01min\u001b[39;00m formulas:\n\u001b[1;32m---> 13\u001b[0m     y \u001b[38;5;241m=\u001b[39m np\u001b[38;5;241m.\u001b[39marray([\u001b[38;5;241m1\u001b[39m \u001b[38;5;28;01mif\u001b[39;00m \u001b[43mformula\u001b[49m\u001b[38;5;241;43m.\u001b[39;49m\u001b[43mevaluate\u001b[49m\u001b[43m(\u001b[49m\u001b[43mgraph\u001b[49m\u001b[43m,\u001b[49m\u001b[43m \u001b[49m\u001b[43mi\u001b[49m\u001b[43m)\u001b[49m \u001b[38;5;28;01melse\u001b[39;00m \u001b[38;5;241m0\u001b[39m \u001b[38;5;28;01mfor\u001b[39;00m i \u001b[38;5;129;01min\u001b[39;00m \u001b[38;5;28mrange\u001b[39m(graph\u001b[38;5;241m.\u001b[39mnumber_of_nodes())])\n\u001b[0;32m     15\u001b[0m     \u001b[38;5;28mprint\u001b[39m(\u001b[38;5;124mf\u001b[39m\u001b[38;5;124m'\u001b[39m\u001b[38;5;124mFormula: \u001b[39m\u001b[38;5;132;01m{\u001b[39;00mformula\u001b[38;5;132;01m}\u001b[39;00m\u001b[38;5;124m'\u001b[39m)\n\u001b[0;32m     16\u001b[0m     evaluate_baseline(X_plus, y, adj, n_runs\u001b[38;5;241m=\u001b[39m\u001b[38;5;241m5\u001b[39m)\n",
      "File \u001b[1;32me:\\Alex\\Google Drive\\PhD\\Machine Learning Algorithms and Applications\\GC2Tree\\c2.py:42\u001b[0m, in \u001b[0;36mFormula.evaluate\u001b[1;34m(self, graph, x, y)\u001b[0m\n\u001b[0;32m     40\u001b[0m     \u001b[38;5;28;01mreturn\u001b[39;00m Forall(Var\u001b[38;5;241m.\u001b[39mx, \u001b[38;5;28mself\u001b[39m)\u001b[38;5;241m.\u001b[39m_evaluate(graph, x, y)\n\u001b[0;32m     41\u001b[0m \u001b[38;5;28;01melif\u001b[39;00m y \u001b[38;5;129;01mis\u001b[39;00m \u001b[38;5;28;01mNone\u001b[39;00m:\n\u001b[1;32m---> 42\u001b[0m     \u001b[38;5;28;01mreturn\u001b[39;00m \u001b[43mForall\u001b[49m\u001b[43m(\u001b[49m\u001b[43mVar\u001b[49m\u001b[38;5;241;43m.\u001b[39;49m\u001b[43my\u001b[49m\u001b[43m,\u001b[49m\u001b[43m \u001b[49m\u001b[38;5;28;43mself\u001b[39;49m\u001b[43m)\u001b[49m\u001b[38;5;241;43m.\u001b[39;49m\u001b[43m_evaluate\u001b[49m\u001b[43m(\u001b[49m\u001b[43mgraph\u001b[49m\u001b[43m,\u001b[49m\u001b[43m \u001b[49m\u001b[43mx\u001b[49m\u001b[43m,\u001b[49m\u001b[43m \u001b[49m\u001b[43my\u001b[49m\u001b[43m)\u001b[49m\n\u001b[0;32m     43\u001b[0m \u001b[38;5;28;01melse\u001b[39;00m:\n\u001b[0;32m     44\u001b[0m     \u001b[38;5;28;01mreturn\u001b[39;00m \u001b[38;5;28mself\u001b[39m\u001b[38;5;241m.\u001b[39m_evaluate(graph, x, y)\n",
      "File \u001b[1;32me:\\Alex\\Google Drive\\PhD\\Machine Learning Algorithms and Applications\\GC2Tree\\c2.py:749\u001b[0m, in \u001b[0;36mForall._evaluate\u001b[1;34m(self, graph, x, y)\u001b[0m\n\u001b[0;32m    747\u001b[0m \u001b[38;5;28;01mdef\u001b[39;00m \u001b[38;5;21m_evaluate\u001b[39m(\u001b[38;5;28mself\u001b[39m, graph: Graph, x, y) \u001b[38;5;241m-\u001b[39m\u001b[38;5;241m>\u001b[39m \u001b[38;5;28mbool\u001b[39m:\n\u001b[0;32m    748\u001b[0m     \u001b[38;5;28;01mreturn\u001b[39;00m \u001b[43mNot\u001b[49m\u001b[43m(\u001b[49m\n\u001b[1;32m--> 749\u001b[0m \u001b[43m        \u001b[49m\u001b[43mExistsGeq\u001b[49m\u001b[43m(\u001b[49m\u001b[38;5;241;43m1\u001b[39;49m\u001b[43m,\u001b[49m\u001b[43m \u001b[49m\u001b[38;5;28;43mself\u001b[39;49m\u001b[38;5;241;43m.\u001b[39;49m\u001b[43mvar\u001b[49m\u001b[43m,\u001b[49m\u001b[43m \u001b[49m\u001b[43mNot\u001b[49m\u001b[43m(\u001b[49m\u001b[38;5;28;43mself\u001b[39;49m\u001b[38;5;241;43m.\u001b[39;49m\u001b[43mformula\u001b[49m\u001b[43m)\u001b[49m\u001b[43m)\u001b[49m\u001b[43m)\u001b[49m\u001b[38;5;241;43m.\u001b[39;49m\u001b[43m_evaluate\u001b[49m\u001b[43m(\u001b[49m\u001b[43mgraph\u001b[49m\u001b[43m,\u001b[49m\u001b[43m \u001b[49m\u001b[43mx\u001b[49m\u001b[43m,\u001b[49m\u001b[43m \u001b[49m\u001b[43my\u001b[49m\u001b[43m)\u001b[49m\n",
      "File \u001b[1;32me:\\Alex\\Google Drive\\PhD\\Machine Learning Algorithms and Applications\\GC2Tree\\c2.py:321\u001b[0m, in \u001b[0;36mNot._evaluate\u001b[1;34m(self, graph, x, y)\u001b[0m\n\u001b[0;32m    320\u001b[0m \u001b[38;5;28;01mdef\u001b[39;00m \u001b[38;5;21m_evaluate\u001b[39m(\u001b[38;5;28mself\u001b[39m, graph: Graph, x, y):\n\u001b[1;32m--> 321\u001b[0m     \u001b[38;5;28;01mreturn\u001b[39;00m \u001b[38;5;129;01mnot\u001b[39;00m \u001b[38;5;28;43mself\u001b[39;49m\u001b[38;5;241;43m.\u001b[39;49m\u001b[43mchild\u001b[49m\u001b[38;5;241;43m.\u001b[39;49m\u001b[43m_evaluate\u001b[49m\u001b[43m(\u001b[49m\u001b[43mgraph\u001b[49m\u001b[43m,\u001b[49m\u001b[43m \u001b[49m\u001b[43mx\u001b[49m\u001b[43m,\u001b[49m\u001b[43m \u001b[49m\u001b[43my\u001b[49m\u001b[43m)\u001b[49m\n",
      "File \u001b[1;32me:\\Alex\\Google Drive\\PhD\\Machine Learning Algorithms and Applications\\GC2Tree\\c2.py:425\u001b[0m, in \u001b[0;36mExistsGeq._evaluate\u001b[1;34m(self, graph, x, y)\u001b[0m\n\u001b[0;32m    423\u001b[0m     \u001b[38;5;28;01mreturn\u001b[39;00m graph\u001b[38;5;241m.\u001b[39mevaluations[\u001b[38;5;28mself\u001b[39m, x]\n\u001b[0;32m    424\u001b[0m \u001b[38;5;28;01mif\u001b[39;00m Var\u001b[38;5;241m.\u001b[39my \u001b[38;5;129;01mnot\u001b[39;00m \u001b[38;5;129;01min\u001b[39;00m \u001b[38;5;28mself\u001b[39m\u001b[38;5;241m.\u001b[39m_formula_free_variables():\n\u001b[1;32m--> 425\u001b[0m     \u001b[38;5;28;01mreturn\u001b[39;00m \u001b[38;5;28;43mself\u001b[39;49m\u001b[38;5;241;43m.\u001b[39;49m\u001b[43mformula\u001b[49m\u001b[38;5;241;43m.\u001b[39;49m\u001b[43m_evaluate\u001b[49m\u001b[43m(\u001b[49m\u001b[43mgraph\u001b[49m\u001b[43m,\u001b[49m\u001b[43m \u001b[49m\u001b[43mx\u001b[49m\u001b[43m,\u001b[49m\u001b[43m \u001b[49m\u001b[43my\u001b[49m\u001b[43m)\u001b[49m\n\u001b[0;32m    426\u001b[0m count \u001b[38;5;241m=\u001b[39m \u001b[38;5;241m0\u001b[39m\n\u001b[0;32m    427\u001b[0m \u001b[38;5;28;01mfor\u001b[39;00m y \u001b[38;5;129;01min\u001b[39;00m graph\u001b[38;5;241m.\u001b[39mnodes():\n",
      "File \u001b[1;32me:\\Alex\\Google Drive\\PhD\\Machine Learning Algorithms and Applications\\GC2Tree\\c2.py:321\u001b[0m, in \u001b[0;36mNot._evaluate\u001b[1;34m(self, graph, x, y)\u001b[0m\n\u001b[0;32m    320\u001b[0m \u001b[38;5;28;01mdef\u001b[39;00m \u001b[38;5;21m_evaluate\u001b[39m(\u001b[38;5;28mself\u001b[39m, graph: Graph, x, y):\n\u001b[1;32m--> 321\u001b[0m     \u001b[38;5;28;01mreturn\u001b[39;00m \u001b[38;5;129;01mnot\u001b[39;00m \u001b[38;5;28;43mself\u001b[39;49m\u001b[38;5;241;43m.\u001b[39;49m\u001b[43mchild\u001b[49m\u001b[38;5;241;43m.\u001b[39;49m\u001b[43m_evaluate\u001b[49m\u001b[43m(\u001b[49m\u001b[43mgraph\u001b[49m\u001b[43m,\u001b[49m\u001b[43m \u001b[49m\u001b[43mx\u001b[49m\u001b[43m,\u001b[49m\u001b[43m \u001b[49m\u001b[43my\u001b[49m\u001b[43m)\u001b[49m\n",
      "File \u001b[1;32me:\\Alex\\Google Drive\\PhD\\Machine Learning Algorithms and Applications\\GC2Tree\\c2.py:569\u001b[0m, in \u001b[0;36mGuardedExistsGeq._evaluate\u001b[1;34m(self, graph, x, y)\u001b[0m\n\u001b[0;32m    567\u001b[0m count \u001b[38;5;241m=\u001b[39m \u001b[38;5;241m0\u001b[39m\n\u001b[0;32m    568\u001b[0m \u001b[38;5;28;01mfor\u001b[39;00m y \u001b[38;5;129;01min\u001b[39;00m graph\u001b[38;5;241m.\u001b[39mneighbors(x):\n\u001b[1;32m--> 569\u001b[0m     \u001b[38;5;28;01mif\u001b[39;00m \u001b[38;5;28;43mself\u001b[39;49m\u001b[38;5;241;43m.\u001b[39;49m\u001b[43mformula\u001b[49m\u001b[38;5;241;43m.\u001b[39;49m\u001b[43m_evaluate\u001b[49m\u001b[43m(\u001b[49m\u001b[43mgraph\u001b[49m\u001b[43m,\u001b[49m\u001b[43m \u001b[49m\u001b[43mx\u001b[49m\u001b[43m,\u001b[49m\u001b[43m \u001b[49m\u001b[43my\u001b[49m\u001b[43m)\u001b[49m:\n\u001b[0;32m    570\u001b[0m         count \u001b[38;5;241m+\u001b[39m\u001b[38;5;241m=\u001b[39m \u001b[38;5;241m1\u001b[39m\n\u001b[0;32m    571\u001b[0m     \u001b[38;5;28;01mif\u001b[39;00m count \u001b[38;5;241m>\u001b[39m\u001b[38;5;241m=\u001b[39m \u001b[38;5;28mself\u001b[39m\u001b[38;5;241m.\u001b[39mcount:\n",
      "File \u001b[1;32me:\\Alex\\Google Drive\\PhD\\Machine Learning Algorithms and Applications\\GC2Tree\\c2.py:288\u001b[0m, in \u001b[0;36mOr._evaluate\u001b[1;34m(self, graph, x, y)\u001b[0m\n\u001b[0;32m    286\u001b[0m \u001b[38;5;28;01mdef\u001b[39;00m \u001b[38;5;21m_evaluate\u001b[39m(\u001b[38;5;28mself\u001b[39m, graph: Graph, x, y):\n\u001b[0;32m    287\u001b[0m     \u001b[38;5;28;01mfor\u001b[39;00m c \u001b[38;5;129;01min\u001b[39;00m \u001b[38;5;28mself\u001b[39m\u001b[38;5;241m.\u001b[39mchildren:\n\u001b[1;32m--> 288\u001b[0m         \u001b[38;5;28;01mif\u001b[39;00m \u001b[43mc\u001b[49m\u001b[38;5;241;43m.\u001b[39;49m\u001b[43m_evaluate\u001b[49m\u001b[43m(\u001b[49m\u001b[43mgraph\u001b[49m\u001b[43m,\u001b[49m\u001b[43m \u001b[49m\u001b[43mx\u001b[49m\u001b[43m,\u001b[49m\u001b[43m \u001b[49m\u001b[43my\u001b[49m\u001b[43m)\u001b[49m:\n\u001b[0;32m    289\u001b[0m             \u001b[38;5;28;01mreturn\u001b[39;00m \u001b[38;5;28;01mTrue\u001b[39;00m\n\u001b[0;32m    290\u001b[0m     \u001b[38;5;28;01melse\u001b[39;00m:\n",
      "File \u001b[1;32me:\\Alex\\Google Drive\\PhD\\Machine Learning Algorithms and Applications\\GC2Tree\\c2.py:550\u001b[0m, in \u001b[0;36mGuardedExistsGeq._evaluate\u001b[1;34m(self, graph, x, y)\u001b[0m\n\u001b[0;32m    541\u001b[0m \u001b[38;5;28;01mdef\u001b[39;00m \u001b[38;5;21m__init__\u001b[39m(\n\u001b[0;32m    542\u001b[0m     \u001b[38;5;28mself\u001b[39m,\n\u001b[0;32m    543\u001b[0m     count: \u001b[38;5;28mint\u001b[39m,\n\u001b[1;32m   (...)\u001b[0m\n\u001b[0;32m    546\u001b[0m     outgoing\u001b[38;5;241m=\u001b[39m\u001b[38;5;28;01mTrue\u001b[39;00m\n\u001b[0;32m    547\u001b[0m ) \u001b[38;5;241m-\u001b[39m\u001b[38;5;241m>\u001b[39m \u001b[38;5;28;01mNone\u001b[39;00m:\n\u001b[0;32m    548\u001b[0m     \u001b[38;5;28msuper\u001b[39m()\u001b[38;5;241m.\u001b[39m\u001b[38;5;21m__init__\u001b[39m(count, var, formula, outgoing)\n\u001b[1;32m--> 550\u001b[0m \u001b[38;5;28;01mdef\u001b[39;00m \u001b[38;5;21m_evaluate\u001b[39m(\u001b[38;5;28mself\u001b[39m, graph: Graph, x, y):\n\u001b[0;32m    551\u001b[0m     \u001b[38;5;28;01mif\u001b[39;00m \u001b[38;5;28mself\u001b[39m\u001b[38;5;241m.\u001b[39mvar \u001b[38;5;241m==\u001b[39m Var\u001b[38;5;241m.\u001b[39mx:\n\u001b[0;32m    552\u001b[0m         \u001b[38;5;28;01mif\u001b[39;00m (\u001b[38;5;28mself\u001b[39m, y) \u001b[38;5;129;01min\u001b[39;00m graph\u001b[38;5;241m.\u001b[39mevaluations:\n",
      "\u001b[1;31mKeyboardInterrupt\u001b[0m: "
     ]
    }
   ],
   "source": [
    "from c2 import *\n",
    "\n",
    "formulas = [\n",
    "    GuardedExistsGeq(4, Var.y, Or(GuardedExistsLeq(7, Var.x, E(Var.x, Var.y)), GuardedExistsGeq(13, Var.x, E(Var.x, Var.y)))),\n",
    "    GuardedExistsGeq(9, Var.y, GuardedExistsLeq(7, Var.x, GuardedExistsGeq(13, Var.y, E(Var.x, Var.y))))\n",
    "]\n",
    "graph = nx.fast_gnp_random_graph(10000, 0.001)\n",
    "adj = nx.adjacency_matrix(graph)\n",
    "X = np.zeros((graph.number_of_nodes(), 0))\n",
    "X_with_dummy = np.concatenate([X, np.ones((X.shape[0], 1))], axis=1)\n",
    "X_plus = np.concatenate([X_with_dummy, adj.dot(X_with_dummy), adj.dot(adj.dot(X_with_dummy))], axis=1)\n",
    "for formula in formulas:\n",
    "    y = np.array([1 if formula.evaluate(graph, i) else 0 for i in range(graph.number_of_nodes())])\n",
    "    \n",
    "    print(f'Formula: {formula}')\n",
    "    evaluate_baseline(X_plus, y, adj, n_runs=5)\n",
    "    evaluate_gc2_tree(X, y, adj, depth=3, n_runs=1)"
   ]
  },
  {
   "cell_type": "code",
   "execution_count": null,
   "metadata": {},
   "outputs": [],
   "source": [
    "test_samples = np.random.choice(len(y), size=int(0.2*len(y)), replace=False)\n",
    "test_mask = np.zeros(len(y), dtype=bool)\n",
    "test_mask[test_samples] = True\n",
    "\n",
    "\n",
    "strategy =  [\n",
    "    [0, 1, 1],\n",
    "    [1, 1, 0],\n",
    "    [1, 0, 0],\n",
    "]"
   ]
  },
  {
   "cell_type": "code",
   "execution_count": null,
   "metadata": {},
   "outputs": [
    {
     "data": {
      "text/plain": [
       "0.5505"
      ]
     },
     "execution_count": 13,
     "metadata": {},
     "output_type": "execute_result"
    }
   ],
   "source": [
    "clf = GC2Tree(2, 2, strategy=strategy)\n",
    "clf.fit(adj, X, y, test_mask=test_mask)\n",
    "clf.score(y, test_mask)"
   ]
  }
 ],
 "metadata": {
  "kernelspec": {
   "display_name": "wlclf",
   "language": "python",
   "name": "python3"
  },
  "language_info": {
   "codemirror_mode": {
    "name": "ipython",
    "version": 3
   },
   "file_extension": ".py",
   "mimetype": "text/x-python",
   "name": "python",
   "nbconvert_exporter": "python",
   "pygments_lexer": "ipython3",
   "version": "3.12.0"
  }
 },
 "nbformat": 4,
 "nbformat_minor": 2
}
